{
 "cells": [
  {
   "cell_type": "markdown",
   "metadata": {},
   "source": [
    "# Question 3"
   ]
  },
  {
   "cell_type": "markdown",
   "metadata": {},
   "source": [
    "    Johana Binta Vitale FAYE\n",
    "    Almamy Youssouf LY\n",
    "    Coumba SY"
   ]
  },
  {
   "cell_type": "code",
   "execution_count": 1,
   "metadata": {},
   "outputs": [],
   "source": [
    "#importation des différentes bibliothéques\n",
    "import pandas as pd #importation de la bibliothéque pandas pour le traitement des dataframe\n",
    "import matplotlib.pyplot as plt # importation du module pyplot de la bibliothéque matplotlib pour la visualisation \n",
    "import numpy as np #importation de la bibliothéque numpy pour effectuer des calculs numéiques\n",
    "import seaborn as sns #importation du bibliothéque seaborn, elle est basée sur matplotlib et permet de dessiner des graphes"
   ]
  },
  {
   "cell_type": "code",
   "execution_count": 4,
   "metadata": {},
   "outputs": [
    {
     "data": {
      "text/plain": [
       "799"
      ]
     },
     "execution_count": 4,
     "metadata": {},
     "output_type": "execute_result"
    }
   ],
   "source": [
    "smp.shape[0]"
   ]
  },
  {
   "cell_type": "code",
   "execution_count": 2,
   "metadata": {
    "scrolled": true
   },
   "outputs": [
    {
     "data": {
      "text/plain": [
       "(799, 26)"
      ]
     },
     "execution_count": 2,
     "metadata": {},
     "output_type": "execute_result"
    }
   ],
   "source": [
    "#1_Enregistrement des données\n",
    "smp = pd.read_table(\"smp.csv\", sep=\";\") #lecture et stockage de notre dataframe dans une variable nommée smp \n",
    "smp.shape #affiche la dimension notre datframe sous forme de tuple dont la premiére valeur représente le nbre d'observation \n",
    "#et la 2nde valeur représente le nbre de variables"
   ]
  },
  {
   "cell_type": "code",
   "execution_count": 7,
   "metadata": {},
   "outputs": [
    {
     "name": "stdout",
     "output_type": "stream",
     "text": [
      "               age     prof       duree      discip    n.enfant   n.fratrie  \\\n",
      "count   797.000000      793  576.000000  793.000000  773.000000  799.000000   \n",
      "unique         NaN        8         NaN         NaN         NaN         NaN   \n",
      "top            NaN  ouvrier         NaN         NaN         NaN         NaN   \n",
      "freq           NaN      227         NaN         NaN         NaN         NaN   \n",
      "mean     38.899624      NaN    4.302083    0.232030    1.755498    4.286608   \n",
      "std      13.280978      NaN    0.868219    0.422395    1.834044    3.441485   \n",
      "min      19.000000      NaN    1.000000    0.000000    0.000000    0.000000   \n",
      "25%      28.000000      NaN    4.000000    0.000000    0.000000    2.000000   \n",
      "50%      37.000000      NaN    5.000000    0.000000    1.000000    3.000000   \n",
      "75%      48.000000      NaN    5.000000    0.000000    3.000000    6.000000   \n",
      "max      83.000000      NaN    5.000000    1.000000   13.000000   21.000000   \n",
      "\n",
      "             ecole  separation  juge.enfant       place  ...  subst.cons  \\\n",
      "count   794.000000  788.000000   794.000000  792.000000  ...  799.000000   \n",
      "unique         NaN         NaN          NaN         NaN  ...         NaN   \n",
      "top            NaN         NaN          NaN         NaN  ...         NaN   \n",
      "freq           NaN         NaN          NaN         NaN  ...         NaN   \n",
      "mean      1.866499    0.422589     0.277078    0.228535  ...    0.265332   \n",
      "std       0.977585    0.494285     0.447837    0.420155  ...    0.441786   \n",
      "min       1.000000    0.000000     0.000000    0.000000  ...    0.000000   \n",
      "25%       1.000000    0.000000     0.000000    0.000000  ...    0.000000   \n",
      "50%       2.000000    0.000000     0.000000    0.000000  ...    0.000000   \n",
      "75%       2.000000    1.000000     1.000000    0.000000  ...    1.000000   \n",
      "max       5.000000    1.000000     1.000000    1.000000  ...    1.000000   \n",
      "\n",
      "          scz.cons        char          rs          ed          dr  \\\n",
      "count   799.000000  703.000000  696.000000  692.000000  688.000000   \n",
      "unique         NaN         NaN         NaN         NaN         NaN   \n",
      "top            NaN         NaN         NaN         NaN         NaN   \n",
      "freq           NaN         NaN         NaN         NaN         NaN   \n",
      "mean      0.082603    1.512091    2.057471    1.865607    2.152616   \n",
      "std       0.275454    0.853723    0.877948    0.871233    0.829738   \n",
      "min       0.000000    1.000000    1.000000    1.000000    1.000000   \n",
      "25%       0.000000    1.000000    1.000000    1.000000    1.000000   \n",
      "50%       0.000000    1.000000    2.000000    2.000000    2.000000   \n",
      "75%       0.000000    2.000000    3.000000    3.000000    3.000000   \n",
      "max       1.000000    4.000000    3.000000    3.000000    3.000000   \n",
      "\n",
      "         suicide.s  suicide.hr  suicide.past  dur.interv  \n",
      "count   758.000000  760.000000    785.000000  749.000000  \n",
      "unique         NaN         NaN           NaN         NaN  \n",
      "top            NaN         NaN           NaN         NaN  \n",
      "freq           NaN         NaN           NaN         NaN  \n",
      "mean      0.794195    0.201316      0.284076   61.891856  \n",
      "std       1.435488    0.401248      0.451261   19.669605  \n",
      "min       0.000000    0.000000      0.000000    0.000000  \n",
      "25%       0.000000    0.000000      0.000000   48.000000  \n",
      "50%       0.000000    0.000000      0.000000   60.000000  \n",
      "75%       1.000000    0.000000      1.000000   75.000000  \n",
      "max       5.000000    1.000000      1.000000  120.000000  \n",
      "\n",
      "[11 rows x 26 columns]\n"
     ]
    },
    {
     "data": {
      "text/plain": [
       "'Donc nous avons bien 799 observations et 26 variables.'"
      ]
     },
     "execution_count": 7,
     "metadata": {},
     "output_type": "execute_result"
    }
   ],
   "source": [
    "#Vérification \n",
    "print(smp.describe(include = 'all'))\n",
    "\"\"\"Donc nous avons bien 799 observations et 26 variables.\"\"\""
   ]
  },
  {
   "cell_type": "code",
   "execution_count": 9,
   "metadata": {},
   "outputs": [
    {
     "data": {
      "text/plain": [
       "age             float64\n",
       "prof             object\n",
       "duree           float64\n",
       "discip          float64\n",
       "n.enfant        float64\n",
       "n.fratrie         int64\n",
       "ecole           float64\n",
       "separation      float64\n",
       "juge.enfant     float64\n",
       "place           float64\n",
       "abus            float64\n",
       "grav.cons       float64\n",
       "dep.cons          int64\n",
       "ago.cons          int64\n",
       "ptsd.cons         int64\n",
       "alc.cons          int64\n",
       "subst.cons        int64\n",
       "scz.cons          int64\n",
       "char            float64\n",
       "rs              float64\n",
       "ed              float64\n",
       "dr              float64\n",
       "suicide.s       float64\n",
       "suicide.hr      float64\n",
       "suicide.past    float64\n",
       "dur.interv      float64\n",
       "dtype: object"
      ]
     },
     "execution_count": 9,
     "metadata": {},
     "output_type": "execute_result"
    }
   ],
   "source": [
    "#2_Changement du type des variables\n",
    "\n",
    "#Type des variables avant convertion\n",
    "smp.dtypes"
   ]
  },
  {
   "cell_type": "code",
   "execution_count": 10,
   "metadata": {},
   "outputs": [
    {
     "data": {
      "text/plain": [
       "age              float64\n",
       "prof            category\n",
       "duree           category\n",
       "discip          category\n",
       "n.enfant         float64\n",
       "n.fratrie          int64\n",
       "ecole           category\n",
       "separation      category\n",
       "juge.enfant     category\n",
       "place           category\n",
       "abus            category\n",
       "grav.cons       category\n",
       "dep.cons        category\n",
       "ago.cons        category\n",
       "ptsd.cons       category\n",
       "alc.cons        category\n",
       "subst.cons      category\n",
       "scz.cons        category\n",
       "char            category\n",
       "rs              category\n",
       "ed              category\n",
       "dr              category\n",
       "suicide.s        float64\n",
       "suicide.hr      category\n",
       "suicide.past    category\n",
       "dur.interv       float64\n",
       "dtype: object"
      ]
     },
     "execution_count": 10,
     "metadata": {},
     "output_type": "execute_result"
    }
   ],
   "source": [
    "#Changement des types\n",
    "\n",
    "Liste_category = [\"prof\", \"duree\", \"discip\",\"ecole\", \"separation\", \"juge.enfant\", \"place\", \"abus\", \"grav.cons\", \"dep.cons\",\n",
    "                 \"ago.cons\",\"ptsd.cons\", \"alc.cons\", \"subst.cons\", \"scz.cons\", \"char\", \"rs\",\"ed\", \"dr\", \"suicide.hr\",\n",
    "                  \"suicide.past\"]  #Liste contenant uniquement les variables à convertir en category                \n",
    "for col in smp.columns:            #col parcoure les colonnes du dataframe\n",
    "    for elt in Liste_category:     #j parcoure la Liste \n",
    "        if col == elt:             #condition\n",
    "            smp[col] = smp[col].astype('category')  #si la condition est réalisée, on change le type en category\n",
    "smp.dtypes   #affiche le type des variables aprés la conversion"
   ]
  },
  {
   "cell_type": "code",
   "execution_count": 105,
   "metadata": {},
   "outputs": [
    {
     "data": {
      "text/plain": [
       "age            (38.9, 176.16, 13.27)\n",
       "n.enfant          (1.76, 3.36, 1.83)\n",
       "n.fratrie        (4.29, 11.83, 3.44)\n",
       "suicide.s         (0.79, 2.06, 1.43)\n",
       "dur.interv    (61.89, 386.38, 19.66)\n",
       "dtype: object"
      ]
     },
     "execution_count": 105,
     "metadata": {},
     "output_type": "execute_result"
    }
   ],
   "source": [
    "#3_Calculer la moyenne, la variance et l'écart type pour les var suivantes: age, n.enfant, n.fratrie, dur.interv.\n",
    "import numpy as np #importation de la bibliothéque numpy pour effectuer des calculs numériques\n",
    "#définissons d'une fonction permettant de calculer les paramétres: moyenne, espérence et variance des colonnes \n",
    "def calcul_parametre(col): #prend comme la colonne dont on doit calculer les paramétres\n",
    "    return (np.round(np.mean(col),2),np.round( np.var(col),2), np.round(np.std(col), 2)) #retourne les paramétres arrondis à 2 chiffres prés\n",
    "resultat = smp.select_dtypes(exclude=['category']).apply (calcul_parametre,axis=0) #appelle de la fonction calcul_parametre sur l'ensemble des colonnes exceptés lescolonnes du dataframe qui sont de type catégory\n",
    "resultat #affiche chaque colonne suivis des paramétres (moyenne, variance, écart-type) sous forme de tuple\n"
   ]
  },
  {
   "cell_type": "code",
   "execution_count": 108,
   "metadata": {},
   "outputs": [
    {
     "data": {
      "text/plain": [
       "count    797.000000\n",
       "mean      38.899624\n",
       "std       13.280978\n",
       "min       19.000000\n",
       "25%       28.000000\n",
       "50%       37.000000\n",
       "75%       48.000000\n",
       "max       83.000000\n",
       "Name: age, dtype: float64"
      ]
     },
     "execution_count": 108,
     "metadata": {},
     "output_type": "execute_result"
    }
   ],
   "source": [
    "#Les trois premiéres quantiles de la variable age\n",
    "smp[\"age\"].describe()"
   ]
  },
  {
   "cell_type": "code",
   "execution_count": 75,
   "metadata": {},
   "outputs": [],
   "source": [
    "#1iére quantile(25%): 28\n",
    "#2iéme quantile(50%): 37\n",
    "#3iéme quantile(75%): 48"
   ]
  },
  {
   "cell_type": "code",
   "execution_count": 151,
   "metadata": {},
   "outputs": [
    {
     "data": {
      "image/png": "[encoded data removed]",
      "text/plain": [
       "<Figure size 1152x648 with 1 Axes>"
      ]
     },
     "metadata": {
      "needs_background": "light"
     },
     "output_type": "display_data"
    }
   ],
   "source": [
    "#4_Tracer le boxplot pour la variable age\n",
    "import matplotlib.pyplot as plt # importation du module pyplot de la bibliothéque matplotlib pour la visualisation \n",
    "plt.rcParams[\"figure.figsize\"] = [16,9] #paramétrage du fenêtre graphique utliser rcParams\n",
    "#plt.boxplot(smp[\"age\"]) \n",
    "smp.boxplot(column='age') #dessine le boxplot\n",
    "plt.draw() #efface le message suivant <matplotlib.axes._subplots.AxesSubplot at 0x209d77362c8>\n",
    "plt.savefig(\"Boxplot des ages.png\", bbox_inches = \"tight\")# bbox = \"tight\" permet de bien proportionner le graphique lors de l'enregistrement"
   ]
  },
  {
   "cell_type": "code",
   "execution_count": 144,
   "metadata": {},
   "outputs": [
    {
     "data": {
      "text/plain": [
       "\"On a un boxplot qui représente la distribution des âges de cette population carcérale.\\nLa médiane(trait en vert) est de 37 ans environ ce qui signifie que 50% des détenus sont agés de moins de 37 ans\\net 50 % sont agés de plus de 37 ans. L'âge maximale est environ de 83 ans (le point le plus haut). \\nL'âge minimale est de 19 ans (trait en bas).\""
      ]
     },
     "execution_count": 144,
     "metadata": {},
     "output_type": "execute_result"
    }
   ],
   "source": [
    "\"\"\"On a un boxplot qui représente la distribution des âges de cette population carcérale.\n",
    "La médiane(trait en vert) est de 37 ans environ ce qui signifie que 50% des détenus sont agés de moins de 37 ans\n",
    "et 50 % sont agés de plus de 37 ans. L'âge maximale est environ de 83 ans (le point le plus haut). \n",
    "L'âge minimale est de 19 ans (trait en bas).\"\"\""
   ]
  },
  {
   "cell_type": "code",
   "execution_count": 149,
   "metadata": {},
   "outputs": [
    {
     "data": {
      "text/html": [
       "<div>\n",
       "<style scoped>\n",
       "    .dataframe tbody tr th:only-of-type {\n",
       "        vertical-align: middle;\n",
       "    }\n",
       "\n",
       "    .dataframe tbody tr th {\n",
       "        vertical-align: top;\n",
       "    }\n",
       "\n",
       "    .dataframe thead th {\n",
       "        text-align: right;\n",
       "    }\n",
       "</style>\n",
       "<table border=\"1\" class=\"dataframe\">\n",
       "  <thead>\n",
       "    <tr style=\"text-align: right;\">\n",
       "      <th></th>\n",
       "      <th>age</th>\n",
       "      <th>prof</th>\n",
       "      <th>duree</th>\n",
       "      <th>discip</th>\n",
       "      <th>n.enfant</th>\n",
       "      <th>n.fratrie</th>\n",
       "      <th>ecole</th>\n",
       "      <th>separation</th>\n",
       "      <th>juge.enfant</th>\n",
       "      <th>place</th>\n",
       "      <th>...</th>\n",
       "      <th>subst.cons</th>\n",
       "      <th>scz.cons</th>\n",
       "      <th>char</th>\n",
       "      <th>rs</th>\n",
       "      <th>ed</th>\n",
       "      <th>dr</th>\n",
       "      <th>suicide.s</th>\n",
       "      <th>suicide.hr</th>\n",
       "      <th>suicide.past</th>\n",
       "      <th>dur.interv</th>\n",
       "    </tr>\n",
       "  </thead>\n",
       "  <tbody>\n",
       "    <tr>\n",
       "      <td>14</td>\n",
       "      <td>64.0</td>\n",
       "      <td>agriculteur</td>\n",
       "      <td>NaN</td>\n",
       "      <td>0.0</td>\n",
       "      <td>3.0</td>\n",
       "      <td>2</td>\n",
       "      <td>1.0</td>\n",
       "      <td>0.0</td>\n",
       "      <td>0.0</td>\n",
       "      <td>0.0</td>\n",
       "      <td>...</td>\n",
       "      <td>0</td>\n",
       "      <td>0</td>\n",
       "      <td>1.0</td>\n",
       "      <td>1.0</td>\n",
       "      <td>1.0</td>\n",
       "      <td>3.0</td>\n",
       "      <td>0.0</td>\n",
       "      <td>0.0</td>\n",
       "      <td>0.0</td>\n",
       "      <td>80.0</td>\n",
       "    </tr>\n",
       "    <tr>\n",
       "      <td>311</td>\n",
       "      <td>42.0</td>\n",
       "      <td>agriculteur</td>\n",
       "      <td>4.0</td>\n",
       "      <td>0.0</td>\n",
       "      <td>3.0</td>\n",
       "      <td>6</td>\n",
       "      <td>1.0</td>\n",
       "      <td>0.0</td>\n",
       "      <td>0.0</td>\n",
       "      <td>0.0</td>\n",
       "      <td>...</td>\n",
       "      <td>0</td>\n",
       "      <td>0</td>\n",
       "      <td>2.0</td>\n",
       "      <td>1.0</td>\n",
       "      <td>3.0</td>\n",
       "      <td>2.0</td>\n",
       "      <td>3.0</td>\n",
       "      <td>1.0</td>\n",
       "      <td>0.0</td>\n",
       "      <td>NaN</td>\n",
       "    </tr>\n",
       "    <tr>\n",
       "      <td>390</td>\n",
       "      <td>36.0</td>\n",
       "      <td>agriculteur</td>\n",
       "      <td>4.0</td>\n",
       "      <td>1.0</td>\n",
       "      <td>3.0</td>\n",
       "      <td>4</td>\n",
       "      <td>3.0</td>\n",
       "      <td>1.0</td>\n",
       "      <td>1.0</td>\n",
       "      <td>1.0</td>\n",
       "      <td>...</td>\n",
       "      <td>1</td>\n",
       "      <td>0</td>\n",
       "      <td>1.0</td>\n",
       "      <td>NaN</td>\n",
       "      <td>3.0</td>\n",
       "      <td>1.0</td>\n",
       "      <td>0.0</td>\n",
       "      <td>0.0</td>\n",
       "      <td>0.0</td>\n",
       "      <td>NaN</td>\n",
       "    </tr>\n",
       "    <tr>\n",
       "      <td>441</td>\n",
       "      <td>79.0</td>\n",
       "      <td>agriculteur</td>\n",
       "      <td>5.0</td>\n",
       "      <td>0.0</td>\n",
       "      <td>5.0</td>\n",
       "      <td>6</td>\n",
       "      <td>2.0</td>\n",
       "      <td>0.0</td>\n",
       "      <td>0.0</td>\n",
       "      <td>0.0</td>\n",
       "      <td>...</td>\n",
       "      <td>0</td>\n",
       "      <td>0</td>\n",
       "      <td>1.0</td>\n",
       "      <td>2.0</td>\n",
       "      <td>1.0</td>\n",
       "      <td>1.0</td>\n",
       "      <td>0.0</td>\n",
       "      <td>0.0</td>\n",
       "      <td>0.0</td>\n",
       "      <td>85.0</td>\n",
       "    </tr>\n",
       "  </tbody>\n",
       "</table>\n",
       "<p>4 rows × 26 columns</p>\n",
       "</div>"
      ],
      "text/plain": [
       "      age         prof duree discip  n.enfant  n.fratrie ecole separation  \\\n",
       "14   64.0  agriculteur   NaN    0.0       3.0          2   1.0        0.0   \n",
       "311  42.0  agriculteur   4.0    0.0       3.0          6   1.0        0.0   \n",
       "390  36.0  agriculteur   4.0    1.0       3.0          4   3.0        1.0   \n",
       "441  79.0  agriculteur   5.0    0.0       5.0          6   2.0        0.0   \n",
       "\n",
       "    juge.enfant place  ... subst.cons scz.cons char   rs   ed   dr suicide.s  \\\n",
       "14          0.0   0.0  ...          0        0  1.0  1.0  1.0  3.0       0.0   \n",
       "311         0.0   0.0  ...          0        0  2.0  1.0  3.0  2.0       3.0   \n",
       "390         1.0   1.0  ...          1        0  1.0  NaN  3.0  1.0       0.0   \n",
       "441         0.0   0.0  ...          0        0  1.0  2.0  1.0  1.0       0.0   \n",
       "\n",
       "    suicide.hr suicide.past dur.interv  \n",
       "14         0.0          0.0       80.0  \n",
       "311        1.0          0.0        NaN  \n",
       "390        0.0          0.0        NaN  \n",
       "441        0.0          0.0       85.0  \n",
       "\n",
       "[4 rows x 26 columns]"
      ]
     },
     "execution_count": 149,
     "metadata": {},
     "output_type": "execute_result"
    }
   ],
   "source": [
    "#5_Données des agriculteurs ayant plus de 2 enfants\n",
    "smp.loc[(smp[\"prof\"] == \"agriculteur\") & (smp[\"n.enfant\"] > 2),:]"
   ]
  },
  {
   "cell_type": "code",
   "execution_count": 150,
   "metadata": {},
   "outputs": [],
   "source": [
    "#Nous avons quatre professeurs qui ont plus de deux enfants."
   ]
  },
  {
   "cell_type": "code",
   "execution_count": 179,
   "metadata": {},
   "outputs": [
    {
     "name": "stdout",
     "output_type": "stream",
     "text": [
      "La fréquence des modalité de la variable profession sont:\n",
      "ouvrier               28.63\n",
      "sans emploi           27.99\n",
      "employe               17.02\n",
      "artisan               11.35\n",
      "prof.intermediaire     7.31\n",
      "autre                  3.91\n",
      "cadre                  3.03\n",
      "agriculteur            0.76\n",
      "Name: prof, dtype: float64\n"
     ]
    }
   ],
   "source": [
    "#6_Calcul des fréquences des modalités de la var profession \n",
    "frequence_profession = smp[\"prof\"].value_counts(normalize = True) #on utilise le module value_counts pour \n",
    "#compter le nombre de valeur unique, normalize: booléen par défaut est à False, si True retourne les fréquences relatives\n",
    "frequence_profession = np.round(frequence_profession,4) #arrondis\n",
    "print(\"La fréquence des modalité de la variable profession sont:\")\n",
    "print(frequence_profession * 100)\n"
   ]
  },
  {
   "cell_type": "code",
   "execution_count": 177,
   "metadata": {},
   "outputs": [],
   "source": [
    "#La catégorie modale: c'est une variable qualitative nominale"
   ]
  },
  {
   "cell_type": "code",
   "execution_count": 223,
   "metadata": {},
   "outputs": [
    {
     "data": {
      "image/png": "[encoded data removed]",
      "text/plain": [
       "<Figure size 1152x648 with 1 Axes>"
      ]
     },
     "metadata": {},
     "output_type": "display_data"
    }
   ],
   "source": [
    "#7_Tracer le diagramme circulaire de la variable profession\n",
    "plt.rcParams[\"figure.figsize\"] = [16,9] #paramétrage du fenêtre graphique utliser rcParams\n",
    "data = frequence_profession #affecte à data la variable frequence_profession de la question n°6\n",
    "#les valeurs de data, les labels: les indexes de la série, autopct le nbre de chiffres aprés la virgule\n",
    "plt.pie(data.values, labels = data.index, autopct = \"%1.1f%%\", shadow = True) #pie dessine un diagramme circulaire\n",
    "#labels = data.index: affiche les modalités de la variable profession dans le diagramme circulaire\n",
    "#autopct = \"%1.1f%%\": nombre chiffre aprés la virgule\n",
    "#shadow = True: ajoute un contour autour du diagramme circulaire\n",
    "plt.axis('equal') #définir et ajuster des tracés avec des rapports d'axe égaux \n",
    "plt.draw() #efface les messages qui accompagnent le graphe\n",
    "plt.savefig(\"Diagramme circulaire des différentes professions.png\", bbox_inches = \"tight\")# bbox = \"tight\" permet de bien proportionner le graphique lors de l'enregistrement"
   ]
  },
  {
   "cell_type": "code",
   "execution_count": 244,
   "metadata": {
    "scrolled": true
   },
   "outputs": [
    {
     "data": {
      "text/html": [
       "<div>\n",
       "<style scoped>\n",
       "    .dataframe tbody tr th:only-of-type {\n",
       "        vertical-align: middle;\n",
       "    }\n",
       "\n",
       "    .dataframe tbody tr th {\n",
       "        vertical-align: top;\n",
       "    }\n",
       "\n",
       "    .dataframe thead tr th {\n",
       "        text-align: left;\n",
       "    }\n",
       "\n",
       "    .dataframe thead tr:last-of-type th {\n",
       "        text-align: right;\n",
       "    }\n",
       "</style>\n",
       "<table border=\"1\" class=\"dataframe\">\n",
       "  <thead>\n",
       "    <tr>\n",
       "      <th></th>\n",
       "      <th>age</th>\n",
       "      <th>n.enfant</th>\n",
       "      <th>n.fratrie</th>\n",
       "      <th>suicide.s</th>\n",
       "      <th>dur.interv</th>\n",
       "    </tr>\n",
       "    <tr>\n",
       "      <th></th>\n",
       "      <th>mean</th>\n",
       "      <th>mean</th>\n",
       "      <th>mean</th>\n",
       "      <th>mean</th>\n",
       "      <th>mean</th>\n",
       "    </tr>\n",
       "    <tr>\n",
       "      <th>prof</th>\n",
       "      <th></th>\n",
       "      <th></th>\n",
       "      <th></th>\n",
       "      <th></th>\n",
       "      <th></th>\n",
       "    </tr>\n",
       "  </thead>\n",
       "  <tbody>\n",
       "    <tr>\n",
       "      <td>agriculteur</td>\n",
       "      <td>48.833333</td>\n",
       "      <td>2.666667</td>\n",
       "      <td>3.833333</td>\n",
       "      <td>1.600000</td>\n",
       "      <td>78.750000</td>\n",
       "    </tr>\n",
       "    <tr>\n",
       "      <td>artisan</td>\n",
       "      <td>45.111111</td>\n",
       "      <td>2.386364</td>\n",
       "      <td>4.077778</td>\n",
       "      <td>0.517647</td>\n",
       "      <td>63.825581</td>\n",
       "    </tr>\n",
       "    <tr>\n",
       "      <td>autre</td>\n",
       "      <td>34.935484</td>\n",
       "      <td>1.483871</td>\n",
       "      <td>3.548387</td>\n",
       "      <td>0.500000</td>\n",
       "      <td>64.230769</td>\n",
       "    </tr>\n",
       "    <tr>\n",
       "      <td>cadre</td>\n",
       "      <td>50.083333</td>\n",
       "      <td>2.166667</td>\n",
       "      <td>2.791667</td>\n",
       "      <td>0.708333</td>\n",
       "      <td>56.956522</td>\n",
       "    </tr>\n",
       "    <tr>\n",
       "      <td>employe</td>\n",
       "      <td>38.711111</td>\n",
       "      <td>1.534351</td>\n",
       "      <td>3.940741</td>\n",
       "      <td>0.766129</td>\n",
       "      <td>62.053435</td>\n",
       "    </tr>\n",
       "    <tr>\n",
       "      <td>ouvrier</td>\n",
       "      <td>37.396476</td>\n",
       "      <td>1.746606</td>\n",
       "      <td>5.022026</td>\n",
       "      <td>0.895928</td>\n",
       "      <td>61.731481</td>\n",
       "    </tr>\n",
       "    <tr>\n",
       "      <td>prof.intermediaire</td>\n",
       "      <td>43.258621</td>\n",
       "      <td>2.107143</td>\n",
       "      <td>3.810345</td>\n",
       "      <td>0.465517</td>\n",
       "      <td>63.075472</td>\n",
       "    </tr>\n",
       "    <tr>\n",
       "      <td>sans emploi</td>\n",
       "      <td>35.896396</td>\n",
       "      <td>1.469484</td>\n",
       "      <td>4.283784</td>\n",
       "      <td>0.960976</td>\n",
       "      <td>61.088235</td>\n",
       "    </tr>\n",
       "  </tbody>\n",
       "</table>\n",
       "</div>"
      ],
      "text/plain": [
       "                          age  n.enfant n.fratrie suicide.s dur.interv\n",
       "                         mean      mean      mean      mean       mean\n",
       "prof                                                                  \n",
       "agriculteur         48.833333  2.666667  3.833333  1.600000  78.750000\n",
       "artisan             45.111111  2.386364  4.077778  0.517647  63.825581\n",
       "autre               34.935484  1.483871  3.548387  0.500000  64.230769\n",
       "cadre               50.083333  2.166667  2.791667  0.708333  56.956522\n",
       "employe             38.711111  1.534351  3.940741  0.766129  62.053435\n",
       "ouvrier             37.396476  1.746606  5.022026  0.895928  61.731481\n",
       "prof.intermediaire  43.258621  2.107143  3.810345  0.465517  63.075472\n",
       "sans emploi         35.896396  1.469484  4.283784  0.960976  61.088235"
      ]
     },
     "execution_count": 244,
     "metadata": {},
     "output_type": "execute_result"
    }
   ],
   "source": [
    "#8_moyenne des âges par profession\n",
    "smp.groupby([\"prof\"]).agg([np.mean]) #on groupe par prof avec l'argument groupby puis on utilise la fonction agg(aggrégation) pour caculer la moyenne"
   ]
  },
  {
   "cell_type": "code",
   "execution_count": 246,
   "metadata": {},
   "outputs": [
    {
     "data": {
      "text/plain": [
       "ouvrier               227\n",
       "sans emploi           222\n",
       "employe               135\n",
       "artisan                90\n",
       "prof.intermediaire     58\n",
       "autre                  31\n",
       "cadre                  24\n",
       "NaN                     6\n",
       "agriculteur             6\n",
       "Name: prof, dtype: int64"
      ]
     },
     "execution_count": 246,
     "metadata": {},
     "output_type": "execute_result"
    }
   ],
   "source": [
    "#9_Donner la table des effectifs pour les var prof incluant les NaN\n",
    "frequence_profession = smp[\"prof\"].value_counts(dropna = False) #on utilise le module value_counts pour\n",
    "#compter le nombre de valeur unique, normalize: booléen par défaut est à False, si True retourne les fréquences relatives\n",
    "frequence_profession"
   ]
  },
  {
   "cell_type": "code",
   "execution_count": 252,
   "metadata": {},
   "outputs": [
    {
     "name": "stdout",
     "output_type": "stream",
     "text": [
      "      age                prof duree discip  n.enfant  n.fratrie ecole  \\\n",
      "0    31.0               autre   4.0    0.0       2.0          4   1.0   \n",
      "1    49.0                 NaN   NaN    0.0       7.0          3   2.0   \n",
      "2    50.0  prof.intermediaire   5.0    0.0       2.0          2   2.0   \n",
      "3    47.0             ouvrier   NaN    0.0       0.0          6   1.0   \n",
      "4    23.0         sans emploi   4.0    1.0       1.0          6   1.0   \n",
      "..    ...                 ...   ...    ...       ...        ...   ...   \n",
      "794  28.0         sans emploi   5.0    0.0       1.0          4   1.0   \n",
      "795  44.0             ouvrier   4.0    1.0       1.0         12   2.0   \n",
      "796  31.0               cadre   4.0    0.0       3.0          6   4.0   \n",
      "797  38.0             employe   5.0    0.0       0.0          1   3.0   \n",
      "798  71.0               autre   4.0    0.0       2.0          4   1.0   \n",
      "\n",
      "    separation juge.enfant place  ... subst.cons scz.cons char   rs   ed   dr  \\\n",
      "0          0.0         0.0   0.0  ...          0        0  1.0  2.0  1.0  1.0   \n",
      "1          1.0         0.0   0.0  ...          0        0  1.0  2.0  2.0  1.0   \n",
      "2          0.0         0.0   0.0  ...          0        0  1.0  2.0  3.0  2.0   \n",
      "3          1.0         0.0   1.0  ...          0        0  1.0  2.0  2.0  2.0   \n",
      "4          1.0         NaN   1.0  ...          0        0  1.0  2.0  2.0  2.0   \n",
      "..         ...         ...   ...  ...        ...      ...  ...  ...  ...  ...   \n",
      "794        NaN         1.0   0.0  ...          0        0  NaN  3.0  1.0  3.0   \n",
      "795        0.0         0.0   0.0  ...          0        0  1.0  1.0  1.0  1.0   \n",
      "796        1.0         1.0   1.0  ...          1        0  2.0  1.0  1.0  1.0   \n",
      "797        0.0         0.0   0.0  ...          0        0  1.0  1.0  1.0  1.0   \n",
      "798        1.0         0.0   0.0  ...          0        0  1.0  1.0  1.0  1.0   \n",
      "\n",
      "    suicide.s suicide.hr suicide.past dur.interv  \n",
      "0         0.0        0.0          0.0        NaN  \n",
      "1         0.0        0.0          0.0       70.0  \n",
      "2         0.0        0.0          0.0        NaN  \n",
      "3         1.0        0.0          0.0      105.0  \n",
      "4         0.0        0.0          1.0        NaN  \n",
      "..        ...        ...          ...        ...  \n",
      "794       1.0        0.0          0.0       60.0  \n",
      "795       0.0        0.0          1.0      105.0  \n",
      "796       1.0        0.0          0.0      105.0  \n",
      "797       0.0        0.0          0.0       75.0  \n",
      "798       0.0        0.0          0.0       45.0  \n",
      "\n",
      "[799 rows x 26 columns]\n"
     ]
    }
   ],
   "source": [
    "#10_Donner le nombre de \"Nan\" pour chaque variable\n",
    "print(smp)"
   ]
  },
  {
   "cell_type": "code",
   "execution_count": 258,
   "metadata": {},
   "outputs": [
    {
     "name": "stdout",
     "output_type": "stream",
     "text": [
      "age               2\n",
      "prof              6\n",
      "duree           223\n",
      "discip            6\n",
      "n.enfant         26\n",
      "n.fratrie         0\n",
      "ecole             5\n",
      "separation       11\n",
      "juge.enfant       5\n",
      "place             7\n",
      "abus              7\n",
      "grav.cons         4\n",
      "dep.cons          0\n",
      "ago.cons          0\n",
      "ptsd.cons         0\n",
      "alc.cons          0\n",
      "subst.cons        0\n",
      "scz.cons          0\n",
      "char             96\n",
      "rs              103\n",
      "ed              107\n",
      "dr              111\n",
      "suicide.s        41\n",
      "suicide.hr       39\n",
      "suicide.past     14\n",
      "dur.interv       50\n",
      "dtype: int64\n"
     ]
    }
   ],
   "source": [
    "print(smp.isnull().sum()) #la méthode isnull() détermine les valeurs manquantes dans chaque variable du dataframe \n",
    "#puis sum() les compte (en faisant la somme)"
   ]
  },
  {
   "cell_type": "code",
   "execution_count": 265,
   "metadata": {},
   "outputs": [
    {
     "data": {
      "text/plain": [
       "age             0\n",
       "prof            0\n",
       "duree           0\n",
       "discip          0\n",
       "n.enfant        0\n",
       "n.fratrie       0\n",
       "ecole           0\n",
       "separation      0\n",
       "juge.enfant     0\n",
       "place           0\n",
       "abus            0\n",
       "grav.cons       0\n",
       "dep.cons        0\n",
       "ago.cons        0\n",
       "ptsd.cons       0\n",
       "alc.cons        0\n",
       "subst.cons      0\n",
       "scz.cons        0\n",
       "char            0\n",
       "rs              0\n",
       "ed              0\n",
       "dr              0\n",
       "suicide.s       0\n",
       "suicide.hr      0\n",
       "suicide.past    0\n",
       "dur.interv      0\n",
       "dtype: int64"
      ]
     },
     "execution_count": 265,
     "metadata": {},
     "output_type": "execute_result"
    }
   ],
   "source": [
    "#11_Supprimer toutes les lignes contenant des \"Nan\"\n",
    "smp_sansNA = smp.dropna()\n",
    "smp_sansNA.isnull().sum() #vérification"
   ]
  },
  {
   "cell_type": "code",
   "execution_count": 274,
   "metadata": {},
   "outputs": [
    {
     "data": {
      "image/png": "[encoded data removed]",
      "text/plain": [
       "<Figure size 1152x648 with 1 Axes>"
      ]
     },
     "metadata": {
      "needs_background": "light"
     },
     "output_type": "display_data"
    }
   ],
   "source": [
    "#12_Tracer l’histogramme et la densité de la variable age sur la même figure\n",
    "import seaborn as sns #importation du bibliothéque seaborn basée sur matplotlib\n",
    "plt.rcParams[\"figure.figsize\"] = [16,9]\n",
    "sns.distplot(smp_sansNA[\"age\"]) \n",
    "plt.draw()\n",
    "#on obtient un histogramme et une courbe tracée avec la méthode du kde appelée estimation par noyau. \n",
    "#Cette méthode permet d'estimer la densité de probabilité d'une variable aléatoire.\n",
    "#Elle est trés utiliséee pour généraliser la méthode d'estimation d'un histogramme. \n",
    "plt.savefig(\"Histogramme et densité de la variable age.png\", bbox_inches = \"tight\")# bbox = \"tight\" permet de bien proportionner le graphique lors de l'enregistrement"
   ]
  },
  {
   "cell_type": "code",
   "execution_count": 308,
   "metadata": {},
   "outputs": [
    {
     "name": "stderr",
     "output_type": "stream",
     "text": [
      "C:\\Users\\ALmaMY yOUSsEf Ly\\Anaconda3\\lib\\site-packages\\ipykernel_launcher.py:6: SettingWithCopyWarning: \n",
      "A value is trying to be set on a copy of a slice from a DataFrame.\n",
      "Try using .loc[row_indexer,col_indexer] = value instead\n",
      "\n",
      "See the caveats in the documentation: http://pandas.pydata.org/pandas-docs/stable/user_guide/indexing.html#returning-a-view-versus-a-copy\n",
      "  \n"
     ]
    },
    {
     "data": {
      "text/plain": [
       "(48.0, 83.0]      117\n",
       "(37.0, 48.0]      108\n",
       "(28.0, 37.0]      100\n",
       "(18.999, 28.0]     78\n",
       "Name: age_classe, dtype: int64"
      ]
     },
     "execution_count": 308,
     "metadata": {},
     "output_type": "execute_result"
    }
   ],
   "source": [
    "#13_Dicrétisation de la var aléatoire age\n",
    "#q1,q2,q3 28,37,48\n",
    "#agemin 19\n",
    "#agemax 83\n",
    "#[\"age1\", \"age2\", \"age3\", \"age4\"]\n",
    "smp_sansNA[\"age_classe\"]= pd.qcut(smp.age,4) #fonction de discrétisation basée sur les quantiles \n",
    "smp_sansNA[\"age_classe\"].value_counts() #value_counts() permet de compter le nbre de valeur dans chaque intervalle"
   ]
  },
  {
   "cell_type": "code",
   "execution_count": 310,
   "metadata": {},
   "outputs": [
    {
     "name": "stdout",
     "output_type": "stream",
     "text": [
      "Les fréquences des modalité de la variable age_classe sont:\n",
      "(48.0, 83.0]      29.03\n",
      "(37.0, 48.0]      26.80\n",
      "(28.0, 37.0]      24.81\n",
      "(18.999, 28.0]    19.35\n",
      "Name: age_classe, dtype: float64\n"
     ]
    }
   ],
   "source": [
    "#14_Donnez les fréquences des modalités de la nouvelle variable age_classe\n",
    "frequence_age = smp_sansNA[\"age_classe\"].value_counts(normalize = True) #on utilise le module value_counts pour \n",
    "#unique compter le nombre valeur unique, normalize: booléen par défaut est à False, si True retourne les fréquences relatives\n",
    "frequence_age = np.round(frequence_age,4) #arrondir \n",
    "print(\"Les fréquences des modalité de la variable age_classe sont:\")\n",
    "print(frequence_age * 100)"
   ]
  },
  {
   "cell_type": "code",
   "execution_count": null,
   "metadata": {},
   "outputs": [],
   "source": []
  }
 ],
 "metadata": {
  "kernelspec": {
   "display_name": "Python 3",
   "language": "python",
   "name": "python3"
  },
  "language_info": {
   "codemirror_mode": {
    "name": "ipython",
    "version": 3
   },
   "file_extension": ".py",
   "mimetype": "text/x-python",
   "name": "python",
   "nbconvert_exporter": "python",
   "pygments_lexer": "ipython3",
   "version": "3.7.4"
  }
 },
 "nbformat": 4,
 "nbformat_minor": 2
}
