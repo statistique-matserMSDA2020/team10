{
 "cells": [
  {
   "cell_type": "markdown",
   "metadata": {},
   "source": [
    "# Question 2"
   ]
  },
  {
   "cell_type": "code",
   "execution_count": 49,
   "metadata": {},
   "outputs": [],
   "source": [
    "#importation des différentes bibliothéques\n",
    "import pandas as pd #importation de la bibliothéque pandas pour le traitement des dataframe\n",
    "import matplotlib.pyplot as plt # importation du module pyplot de la bibliothéque matplotlib pour la visualisation \n",
    "import numpy as np #importation de la bibliothéque numpy pour effectuer des calculs numéiques"
   ]
  },
  {
   "cell_type": "code",
   "execution_count": 50,
   "metadata": {},
   "outputs": [
    {
     "data": {
      "text/html": [
       "<div>\n",
       "<style scoped>\n",
       "    .dataframe tbody tr th:only-of-type {\n",
       "        vertical-align: middle;\n",
       "    }\n",
       "\n",
       "    .dataframe tbody tr th {\n",
       "        vertical-align: top;\n",
       "    }\n",
       "\n",
       "    .dataframe thead th {\n",
       "        text-align: right;\n",
       "    }\n",
       "</style>\n",
       "<table border=\"1\" class=\"dataframe\">\n",
       "  <thead>\n",
       "    <tr style=\"text-align: right;\">\n",
       "      <th></th>\n",
       "      <th>xi</th>\n",
       "      <th>yi</th>\n",
       "    </tr>\n",
       "  </thead>\n",
       "  <tbody>\n",
       "    <tr>\n",
       "      <td>0</td>\n",
       "      <td>18</td>\n",
       "      <td>55</td>\n",
       "    </tr>\n",
       "    <tr>\n",
       "      <td>1</td>\n",
       "      <td>7</td>\n",
       "      <td>17</td>\n",
       "    </tr>\n",
       "    <tr>\n",
       "      <td>2</td>\n",
       "      <td>14</td>\n",
       "      <td>36</td>\n",
       "    </tr>\n",
       "    <tr>\n",
       "      <td>3</td>\n",
       "      <td>31</td>\n",
       "      <td>85</td>\n",
       "    </tr>\n",
       "    <tr>\n",
       "      <td>4</td>\n",
       "      <td>21</td>\n",
       "      <td>62</td>\n",
       "    </tr>\n",
       "    <tr>\n",
       "      <td>5</td>\n",
       "      <td>5</td>\n",
       "      <td>18</td>\n",
       "    </tr>\n",
       "    <tr>\n",
       "      <td>6</td>\n",
       "      <td>11</td>\n",
       "      <td>33</td>\n",
       "    </tr>\n",
       "    <tr>\n",
       "      <td>7</td>\n",
       "      <td>16</td>\n",
       "      <td>41</td>\n",
       "    </tr>\n",
       "    <tr>\n",
       "      <td>8</td>\n",
       "      <td>26</td>\n",
       "      <td>63</td>\n",
       "    </tr>\n",
       "    <tr>\n",
       "      <td>9</td>\n",
       "      <td>29</td>\n",
       "      <td>87</td>\n",
       "    </tr>\n",
       "  </tbody>\n",
       "</table>\n",
       "</div>"
      ],
      "text/plain": [
       "   xi  yi\n",
       "0  18  55\n",
       "1   7  17\n",
       "2  14  36\n",
       "3  31  85\n",
       "4  21  62\n",
       "5   5  18\n",
       "6  11  33\n",
       "7  16  41\n",
       "8  26  63\n",
       "9  29  87"
      ]
     },
     "execution_count": 50,
     "metadata": {},
     "output_type": "execute_result"
    }
   ],
   "source": [
    "#1_Enregistrement dans un format adapté\n",
    "ligne1 = pd.Series([18,7,14,31,21,5,11,16,26,29]) #on transforme la ligne n°1 en Série\n",
    "ligne2 = pd.Series([55,17,36,85,62,18,33,41,63,87]) #on transforme la ligne n°2 en Série\n",
    "#La série est un tableau étiqueté unidimensionnel capable de contenir des données de tout type (entier, chaîne, flottant, objets python, etc.). Les étiquettes d'axe sont appelées collectivement index.\n",
    "df= pd.DataFrame({\"xi\": ligne1, \"yi\": ligne2}) #création d'un dataframe à partir des séries\n",
    "df"
   ]
  },
  {
   "cell_type": "code",
   "execution_count": 51,
   "metadata": {
    "scrolled": true
   },
   "outputs": [
    {
     "data": {
      "image/png": "[encoded data removed]",
      "text/plain": [
       "<Figure size 1152x648 with 1 Axes>"
      ]
     },
     "metadata": {
      "needs_background": "light"
     },
     "output_type": "display_data"
    }
   ],
   "source": [
    "#2_Représentez les yi en fonction des xi\n",
    "plt.scatter(df.xi, df.yi) #nuage de point \n",
    "plt.xlabel('Valeurs de xi') #axe des abscisses\n",
    "plt.ylabel('Valeurs de yi') #axe des ordonnées\n",
    "plt.title(\"Représentation graphique des yi en fonctions des xi\") #titre\n",
    "plt.rcParams[\"figure.figsize\"] = [16,9] #paramétrage du fenêtre graphique utliser rcParams\n",
    "plt.savefig(\"Graphique des yi en fonctions des xi.png\", bbox_inches = \"tight\")# bbox = \"tight\" permet de bien proportionner le graphique lors de l'enregistrement\n",
    "plt.draw() #permet d'enlever les messages qui apparaissent avec la représentation graphique"
   ]
  },
  {
   "cell_type": "code",
   "execution_count": 31,
   "metadata": {},
   "outputs": [],
   "source": [
    "#D'aprés la représentation graphique nous pouvons soupçonner une liaison linéaire entre ces deux variables car on a l'imprssion \n",
    "#que les point sont situés de part et et d'autre suivant l'allure d'une droite. "
   ]
  },
  {
   "cell_type": "code",
   "execution_count": 52,
   "metadata": {},
   "outputs": [
    {
     "name": "stdout",
     "output_type": "stream",
     "text": [
      "Les coefficients de a et b sont respectivement: (2.735, 1.021)\n"
     ]
    }
   ],
   "source": [
    "#3_Déterminer la dte des MCO ie les coefficients de cor de la droite des MCO\n",
    "def CalculCoefficients(xi, yi):\n",
    "    #y = ax + b droite de régression de y en x\n",
    "    #On applique les formules  de a (coefficient directeur de la droite) et b (ordonnée à l'origine) \n",
    "    \n",
    "    n = np.size(xi)   #n représente la taille de l'échantillon xi = taille de l'échantillon yi\n",
    "    moyenne_x = np.mean(xi) #moyenne de l'échantillon xi  \n",
    "    moyenne_y = np.mean(yi) #moyenne de l'échcantillon yi\n",
    "    somme_xy = n*np.sum(xi*yi) - np.sum(xi)*np.sum(yi) #numérateur de la formule de a\n",
    "    somme_xx = n*np.sum(xi**2) - (np.sum(xi))**2 #dénominateur de la formule de b\n",
    "    a = somme_xy / somme_xx #rapport de la somme_xy(numérateur de a) sur la somme_xx(dénominateur de a)\n",
    "    b = moyenne_y - a*moyenne_x  #différence de la moyenne_y et de a multiplier par la moyenne_x\n",
    "    return(round(a, 3), round(b, 3)) #arrondis des résultats à 3 chiffres aprés la virgule\n",
    "\n",
    "print(\"Les coefficients de a et b sont respectivement:\", CalculCoefficients(df.xi, df.yi))"
   ]
  },
  {
   "cell_type": "code",
   "execution_count": 53,
   "metadata": {
    "scrolled": false
   },
   "outputs": [
    {
     "name": "stdout",
     "output_type": "stream",
     "text": [
      "Les différentes de yi sont: [50.251, 20.166, 39.311, 85.806, 58.456, 14.696, 31.106, 44.781, 72.131, 80.336]\n"
     ]
    }
   ],
   "source": [
    "#4_Donner les ordonnées des yi calculés par la droite des moindres carrés correspondant aux différentes valeurs des xi\n",
    "a=2.735\n",
    "b = 1.021\n",
    "yi = []                         #initialisation d'une liste vide\n",
    "for x in df.xi:\n",
    "    yi.append(round(a*x + b,4)) #ajout des des valeurs de xi à chaque tour de boucle\n",
    "print(\"Les différentes de yi sont:\", yi)"
   ]
  },
  {
   "cell_type": "code",
   "execution_count": 54,
   "metadata": {},
   "outputs": [
    {
     "data": {
      "image/png": "[encoded data removed]",
      "text/plain": [
       "<Figure size 1152x648 with 1 Axes>"
      ]
     },
     "metadata": {
      "needs_background": "light"
     },
     "output_type": "display_data"
    }
   ],
   "source": [
    "#5_Tracer ensuite la droite sur le même graphique\n",
    "plt.plot(df.xi, yi, c = 'r', label = 'droite de régression linéaire') #trace la droite de la régression linéaire en rouge\n",
    "plt.scatter(df.xi, df.yi,label = 'courbe de yi=f(xi)') #nuage de point \n",
    "plt.xlabel('Valeurs de xi') #axe des abscisses\n",
    "plt.ylabel('Valeurs de yi') #axe des ordonnées\n",
    "plt.legend() #affiche la légende\n",
    "plt.title(\"Représentation graphique des yi en fonctions des xi et la droite de la régression linéaire\") #titre\n",
    "plt.rcParams[\"figure.figsize\"] = [16,9] #paramétrage du fenêtre graphique utliser rcParams\n",
    "plt.savefig(\"Graphique des yi en fonctions des xi et de la droite de la régression linéaire.png\", bbox_inches = \"tight\")# bbox = \"tight\" permet de bien proportionner le graphique lors de l'enregistrement\n",
    "plt.draw() #permet d'enlever les messages qui apparaissent avec la représentation graphique"
   ]
  },
  {
   "cell_type": "code",
   "execution_count": 55,
   "metadata": {},
   "outputs": [
    {
     "name": "stdout",
     "output_type": "stream",
     "text": [
      "La valeur de Y à xi = 21 est: 58.456\n"
     ]
    }
   ],
   "source": [
    "#6_Estimation plausible de Y à xi = 21\n",
    "a=2.735\n",
    "b = 1.021\n",
    "y = 0\n",
    "xi = 21\n",
    "for x in df.xi:\n",
    "    if x == xi:\n",
    "        y += round(a*x + b,3)\n",
    "print(\"La valeur de Y à xi = 21 est:\", y)"
   ]
  },
  {
   "cell_type": "code",
   "execution_count": 56,
   "metadata": {},
   "outputs": [
    {
     "name": "stdout",
     "output_type": "stream",
     "text": [
      "Cet écart est appelé l'erreur entre la valeur observée de Y à xi = 21 et celle estimée à la même abscisse avec la droite des moindres carrées ordinaoires. Sa valeur est: 3.544\n"
     ]
    }
   ],
   "source": [
    "#7_Quel est l’écart entre la valeur observée de Y à xi = 21 et la valeur estimée avec la droite des\n",
    "#moindres carrés ? Comment appelons-nous cet écart ?\n",
    "\n",
    "#valeur estimée avec la droite des MCO:\n",
    "xi = 21\n",
    "y = 58.456\n",
    "#valeur de y à ajuster:\n",
    "xi= 21\n",
    "yi= 62\n",
    "#écart:\n",
    "d = yi - y\n",
    "print(\"Cet écart est appelé l'erreur entre la valeur observée de Y à xi = 21 et celle estimée à la même abscisse avec la droite des moindres carrées ordinaoires. Sa valeur est:\", np.round(d, 3))"
   ]
  },
  {
   "cell_type": "code",
   "execution_count": 57,
   "metadata": {},
   "outputs": [
    {
     "name": "stdout",
     "output_type": "stream",
     "text": [
      "La droite des moindres carrés passe par le point de moyen de coordonnés: (17.8 ,49.7)\n"
     ]
    }
   ],
   "source": [
    "#8_Est-ce que la droite des moindres carrés obtenue en 2. passe par le point (¯x, ¯y) ? Pouvons-nous\n",
    "#généraliser cette conclusion à n’importe laquelle droite de régression ?\n",
    "\n",
    "\n",
    "#Pour répondre à cette question cherchons d'abord les valeurs de la moyenne des xi et celle des yi\n",
    "x_moy = np.mean(df.xi) \n",
    "y_moy = np.mean(df.yi)\n",
    "y = round(a*x_moy + b,1) #remplace x_moy dans l'équation pour vérifier si on sur x_moy\n",
    "if y == y_moy:\n",
    "    print(\"La droite des moindres carrés passe par le point de moyen de coordonnés: ({} ,{})\".format(x_moy, y_moy))\n",
    "else:\n",
    "    print(\"La droite des moindres carrés ne passe pas par le point moyen de coordonnés {} et {}\".format(x_moy, y_moy))"
   ]
  },
  {
   "cell_type": "markdown",
   "metadata": {},
   "source": [
    "#### Généralisation: \n",
    "\"\"\"Vue que  la formule du coeficient directeur de la droite de régression est donné par b = y_moy - a*x_moy et en remplaçant\n",
    "b dans l'équation de la droite de régression: y = ax + b on tombe sur a = y - y_moy / x - x_moy on peut donc généraliser \n",
    "que pour n'importe droite de régression passe par le point moyen.\n",
    "NB: x_moy : moyenne des valeurs de x\n",
    "    y_moy: moyenne des valeurs de y\"\"\""
   ]
  },
  {
   "cell_type": "code",
   "execution_count": null,
   "metadata": {},
   "outputs": [],
   "source": []
  }
 ],
 "metadata": {
  "kernelspec": {
   "display_name": "Python 3",
   "language": "python",
   "name": "python3"
  },
  "language_info": {
   "codemirror_mode": {
    "name": "ipython",
    "version": 3
   },
   "file_extension": ".py",
   "mimetype": "text/x-python",
   "name": "python",
   "nbconvert_exporter": "python",
   "pygments_lexer": "ipython3",
   "version": "3.7.4"
  }
 },
 "nbformat": 4,
 "nbformat_minor": 2
}
